{
 "cells": [
  {
   "cell_type": "markdown",
   "metadata": {},
   "source": [
    "# Websraping notebook for extracting data from OLX"
   ]
  },
  {
   "cell_type": "code",
   "execution_count": 2,
   "metadata": {},
   "outputs": [],
   "source": [
    "import numpy as np\n",
    "import requests\n",
    "import bs4\n",
    "import json"
   ]
  },
  {
   "cell_type": "code",
   "execution_count": 3,
   "metadata": {},
   "outputs": [],
   "source": [
    "pages = []\n",
    "\n",
    "for i in range(20):\n",
    "    r = requests.get(\"https://www.olx.pl/d/nieruchomosci/mieszkania/sprzedaz/lublin/?page={}\".format(i+1))\n",
    "\n",
    "    if r.status_code == 200:\n",
    "        pages.append(bs4.BeautifulSoup(r.text, \"html.parser\"))"
   ]
  },
  {
   "cell_type": "code",
   "execution_count": 4,
   "metadata": {},
   "outputs": [],
   "source": [
    "links = []\n",
    "\n",
    "for p in pages:\n",
    "    for a in p.find_all(\"a\", {\"class\": \"css-1bbgabe\"}):\n",
    "        links.append(a[\"href\"])\n"
   ]
  },
  {
   "cell_type": "markdown",
   "metadata": {},
   "source": [
    "Split otodom & olx"
   ]
  },
  {
   "cell_type": "code",
   "execution_count": 5,
   "metadata": {},
   "outputs": [],
   "source": [
    "olx_links = []\n",
    "otodom_links = []\n",
    "\n",
    "for link in links:\n",
    "    if \"otodom\" in link:\n",
    "        otodom_links.append(link)\n",
    "    else:\n",
    "        olx_links.append(\"http://www.olx.pl\" + link)"
   ]
  },
  {
   "cell_type": "code",
   "execution_count": 6,
   "metadata": {},
   "outputs": [],
   "source": [
    "# Extracting flat data from olx.pl\n",
    "\n",
    "def extract_data_olx(link):\n",
    "\n",
    "    r1 = bs4.BeautifulSoup(requests.get(link).text, \"html.parser\")\n",
    "    script_w_data_json = str(r1.find_all(\"script\", {\"id\": \"olx-init-config\"})[0]) #.find(\"window.__PRERENDERED_STATE__\")\n",
    "\n",
    "    start = script_w_data_json.find(\"window.__PRERENDERED_STATE__\")\n",
    "    stop = script_w_data_json.find(\"window.__TAURUS__\")\n",
    "\n",
    "    json_extracted = script_w_data_json[start+30:stop-10]\n",
    "    j = json.loads(json.loads(json_extracted))\n",
    "\n",
    "    id = j['ad']['ad']['id']\n",
    "    createdTime = j['ad']['ad']['createdTime']\n",
    "    lastRefresh = j['ad']['ad']['lastRefreshTime']\n",
    "    params = j['ad']['ad']['params']\n",
    "    price = j['ad']['ad']['price']['regularPrice']['value']\n",
    "    location = j['ad']['ad']['location']['cityName']\n",
    "\n",
    "    params_dic = {param['key']: param['normalizedValue'] for param in params}\n",
    "\n",
    "    collected_data = {\n",
    "        \"id\": id,\n",
    "        \"createdTime\": createdTime,\n",
    "        \"lastRefresh\": lastRefresh,\n",
    "        \"price\": price,\n",
    "        \"location\": location,\n",
    "        **params_dic\n",
    "        }\n",
    "\n",
    "    \n",
    "\n",
    "    return collected_data"
   ]
  },
  {
   "cell_type": "code",
   "execution_count": 13,
   "metadata": {},
   "outputs": [
    {
     "data": {
      "text/plain": [
       "{'id': 763876389,\n",
       " 'createdTime': '2022-06-21T18:02:33+02:00',\n",
       " 'lastRefresh': '2022-07-21T18:20:42+02:00',\n",
       " 'price': 506000,\n",
       " 'location': 'Lublin',\n",
       " 'price_per_m': '11500',\n",
       " 'floor_select': 'floor_1',\n",
       " 'furniture': 'yes',\n",
       " 'market': 'secondary',\n",
       " 'builttype': 'blok',\n",
       " 'm': '44',\n",
       " 'rooms': 'two'}"
      ]
     },
     "execution_count": 13,
     "metadata": {},
     "output_type": "execute_result"
    }
   ],
   "source": [
    "extract_data_olx(olx_links[15])"
   ]
  },
  {
   "cell_type": "markdown",
   "metadata": {},
   "source": [
    "Extract from otodom"
   ]
  },
  {
   "cell_type": "code",
   "execution_count": 45,
   "metadata": {},
   "outputs": [],
   "source": [
    "def extract_data_otodom(link):\n",
    "    r1 = bs4.BeautifulSoup(requests.get(link).text, \"html.parser\")\n",
    "    j = json.loads(r1.find(\"script\", {\"id\": \"__NEXT_DATA__\"}).text)\n",
    "\n",
    "    data = j['props']['pageProps']['ad']['target']\n",
    "    \n",
    "    area = data['Area']\n",
    "    build_year = data['Build_year']\n",
    "    city = data['City']\n",
    "    floor = data['Floor_no']\n",
    "    id = data['Id']\n",
    "    markettype = data['MarketType']\n",
    "    price = data['Price']\n",
    "    price_per_m2 = data['Price_per_m']\n",
    "    date_created = j['props']['pageProps']['ad']['dateCreated']\n",
    "    date_lastmod = j['props']['pageProps']['ad']['dateModified']\n",
    "    rooms = data['Rooms_num'][0]\n",
    "    builttype = data['Building_type'][0]\n",
    "\n",
    "    collected_data = {\n",
    "        \"m\": area, \n",
    "        \"build_year\": build_year, \n",
    "        \"location\": city, \n",
    "        \"floor\": floor[0], \n",
    "        \"id\": id, \n",
    "        \"market\": markettype, \n",
    "        \"price\": price, \n",
    "        \"price_per_m2\": price_per_m2, \n",
    "        \"date_created\": date_created, \n",
    "        \"date_lastmod\": date_lastmod,\n",
    "        \"rooms\": rooms,\n",
    "        \"builttype\": builttype\n",
    "        }\n",
    "\n",
    "    return collected_data\n",
    "\n",
    "\n",
    "    \n"
   ]
  },
  {
   "cell_type": "code",
   "execution_count": 46,
   "metadata": {},
   "outputs": [
    {
     "data": {
      "text/plain": [
       "{'m': '41.18',\n",
       " 'build_year': '2021',\n",
       " 'location': 'lublin',\n",
       " 'floor': 'floor_3',\n",
       " 'id': '62711539',\n",
       " 'market': 'secondary',\n",
       " 'price': 442000,\n",
       " 'price_per_m2': 10733,\n",
       " 'date_created': '2022-01-28 20:45:22',\n",
       " 'date_lastmod': '2022-07-21 15:56:23',\n",
       " 'rooms': '2',\n",
       " 'builttype': 'block'}"
      ]
     },
     "execution_count": 46,
     "metadata": {},
     "output_type": "execute_result"
    }
   ],
   "source": [
    "extract_data_otodom(otodom_links[15])"
   ]
  },
  {
   "cell_type": "code",
   "execution_count": 1,
   "metadata": {},
   "outputs": [],
   "source": [
    "from tqdm import tqdm"
   ]
  },
  {
   "cell_type": "code",
   "execution_count": 2,
   "metadata": {},
   "outputs": [
    {
     "name": "stderr",
     "output_type": "stream",
     "text": [
      "100%|██████████| 100/100 [00:00<00:00, 38223.86it/s]"
     ]
    },
    {
     "name": "stdout",
     "output_type": "stream",
     "text": [
      "0\n",
      "1\n",
      "2\n",
      "3\n",
      "4\n",
      "5\n",
      "6\n",
      "7\n",
      "8\n",
      "9\n",
      "10\n",
      "11\n",
      "12\n",
      "13\n",
      "14\n",
      "15\n",
      "16\n",
      "17\n",
      "18\n",
      "19\n",
      "20\n",
      "21\n",
      "22\n",
      "23\n",
      "24\n",
      "25\n",
      "26\n",
      "27\n",
      "28\n",
      "29\n",
      "30\n",
      "31\n",
      "32\n",
      "33\n",
      "34\n",
      "35\n",
      "36\n",
      "37\n",
      "38\n",
      "39\n",
      "40\n",
      "41\n",
      "42\n",
      "43\n",
      "44\n",
      "45\n",
      "46\n",
      "47\n",
      "48\n",
      "49\n",
      "50\n",
      "51\n",
      "52\n",
      "53\n",
      "54\n",
      "55\n",
      "56\n",
      "57\n",
      "58\n",
      "59\n",
      "60\n",
      "61\n",
      "62\n",
      "63\n",
      "64\n",
      "65\n",
      "66\n",
      "67\n",
      "68\n",
      "69\n",
      "70\n",
      "71\n",
      "72\n",
      "73\n",
      "74\n",
      "75\n",
      "76\n",
      "77\n",
      "78\n",
      "79\n",
      "80\n",
      "81\n",
      "82\n",
      "83\n",
      "84\n",
      "85\n",
      "86\n",
      "87\n",
      "88\n",
      "89\n",
      "90\n",
      "91\n",
      "92\n",
      "93\n",
      "94\n",
      "95\n",
      "96\n",
      "97\n",
      "98\n",
      "99\n"
     ]
    },
    {
     "name": "stderr",
     "output_type": "stream",
     "text": [
      "\n"
     ]
    }
   ],
   "source": [
    "for i in tqdm(range(100)):\n",
    "    print(i)"
   ]
  },
  {
   "cell_type": "code",
   "execution_count": null,
   "metadata": {},
   "outputs": [],
   "source": []
  }
 ],
 "metadata": {
  "kernelspec": {
   "display_name": "Python 3.8.13 ('base')",
   "language": "python",
   "name": "python3"
  },
  "language_info": {
   "codemirror_mode": {
    "name": "ipython",
    "version": 3
   },
   "file_extension": ".py",
   "mimetype": "text/x-python",
   "name": "python",
   "nbconvert_exporter": "python",
   "pygments_lexer": "ipython3",
   "version": "3.8.13"
  },
  "orig_nbformat": 4,
  "vscode": {
   "interpreter": {
    "hash": "610fbe353c6121516689498884bc279becd84a27de25d07f6fae681ec925e56d"
   }
  }
 },
 "nbformat": 4,
 "nbformat_minor": 2
}
